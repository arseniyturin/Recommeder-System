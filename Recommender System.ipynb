{
 "cells": [
  {
   "cell_type": "markdown",
   "id": "55652b25",
   "metadata": {},
   "source": [
    "# User and Item Based Recommender System"
   ]
  },
  {
   "cell_type": "markdown",
   "id": "1719c2ea",
   "metadata": {},
   "source": [
    "This is tutorial from the book \"Data Science From Scratch\" by Joel Grus. In this tutorial author explains differences and approaches of two most common ways to build recommender systems: user-based collaborative filtering and item-based collaborative filtering.\n",
    "- **User-based** approach finds users with similar items/iterests by utilizing similarity metric, such as cosine similarity, or distance metric (ex: KNN) and provides user of interest with new items suggested from similar users. \n",
    "- **Item-based** approach is trying to find similar items without involvement of the user."
   ]
  },
  {
   "cell_type": "markdown",
   "id": "01fb9275",
   "metadata": {},
   "source": [
    "## Importing Libraries"
   ]
  },
  {
   "cell_type": "code",
   "execution_count": 1,
   "id": "fe153214",
   "metadata": {},
   "outputs": [],
   "source": [
    "from collections import defaultdict"
   ]
  },
  {
   "cell_type": "markdown",
   "id": "14082e43",
   "metadata": {},
   "source": [
    "## Data"
   ]
  },
  {
   "cell_type": "code",
   "execution_count": 2,
   "id": "342250a0",
   "metadata": {},
   "outputs": [],
   "source": [
    "users_interests = [\n",
    "    [\"Hadoop\", \"Big Data\", \"HBase\", \"Java\", \"Spark\", \"Storm\", \"Cassandra\"],\n",
    "    [\"NoSQL\", \"MongoDB\", \"Cassandra\", \"HBase\", \"Postgres\"],\n",
    "    [\"Python\", \"scikit-learn\", \"scipy\", \"numpy\", \"statsmodels\", \"pandas\"],\n",
    "    [\"R\", \"Python\", \"statistics\", \"regression\", \"probability\"],\n",
    "    [\"machine learning\", \"regression\", \"decision trees\", \"libsvm\"],\n",
    "    [\"Python\", \"R\", \"Java\", \"C++\", \"Haskell\", \"programming languages\"],\n",
    "    [\"statistics\", \"probability\", \"mathematics\", \"theory\"],\n",
    "    [\"machine learning\", \"scikit-learn\", \"Mahout\", \"neural networks\"],\n",
    "    [\"neural networks\", \"deep learning\", \"Big Data\", \"artificial intelligence\"],\n",
    "    [\"Hadoop\", \"Java\", \"MapReduce\", \"Big Data\"],\n",
    "    [\"statistics\", \"R\", \"statsmodels\"],\n",
    "    [\"C++\", \"deep learning\", \"artificial intelligence\", \"probability\"],\n",
    "    [\"pandas\", \"R\", \"Python\"],\n",
    "    [\"databases\", \"HBase\", \"Postgres\", \"MySQL\", \"MongoDB\"],\n",
    "    [\"libsvm\", \"regression\", \"support vector machines\"]\n",
    "]"
   ]
  },
  {
   "cell_type": "markdown",
   "id": "53c3c891",
   "metadata": {},
   "source": [
    "## 1. User-Based Collaborative Filtering"
   ]
  },
  {
   "cell_type": "markdown",
   "id": "73c71c97",
   "metadata": {},
   "source": [
    "In the tutorial author decides to use cosine similarity metric."
   ]
  },
  {
   "cell_type": "code",
   "execution_count": 3,
   "id": "e4ec30a0",
   "metadata": {},
   "outputs": [],
   "source": [
    "def dot(v, w):\n",
    "    return sum([i*j for i,j in zip(v,w)])"
   ]
  },
  {
   "cell_type": "code",
   "execution_count": 4,
   "id": "fa1af46b",
   "metadata": {},
   "outputs": [],
   "source": [
    "def cosine_similarity(v, w):\n",
    "    return dot(v, w) / (dot(v, v) * dot(w, w))**(1/2)"
   ]
  },
  {
   "cell_type": "markdown",
   "id": "5d177d92",
   "metadata": {},
   "source": [
    "First, we need to extract all unique items (interests) from all the users"
   ]
  },
  {
   "cell_type": "code",
   "execution_count": 5,
   "id": "8d87bdd4",
   "metadata": {},
   "outputs": [],
   "source": [
    "unique_interests = sorted(list({ interest\n",
    "    for user_interests in users_interests\n",
    "    for interest in user_interests }))"
   ]
  },
  {
   "cell_type": "code",
   "execution_count": 6,
   "id": "49b5d7f5",
   "metadata": {},
   "outputs": [
    {
     "name": "stdout",
     "output_type": "stream",
     "text": [
      "Total users: 15\n",
      "Total unique interests: 36\n"
     ]
    }
   ],
   "source": [
    "print(f'Total users: {len(users_interests)}')\n",
    "print(f'Total unique interests: {len(unique_interests)}')"
   ]
  },
  {
   "cell_type": "markdown",
   "id": "75227ff3",
   "metadata": {},
   "source": [
    "Then we build a matrix of items, where each user is represented as a vector, where `1` symbolizes presence of interest, `0` is absence. Final matrix will have shape of n x m, where n - number of users, m - number of all interests. In our case it will be 15 x 36"
   ]
  },
  {
   "cell_type": "code",
   "execution_count": 7,
   "id": "e8ecba27",
   "metadata": {},
   "outputs": [],
   "source": [
    "def make_user_interest_vector(user_interests):\n",
    "    return [1 if interest in user_interests else 0 for interest in unique_interests]"
   ]
  },
  {
   "cell_type": "code",
   "execution_count": 8,
   "id": "7f78ec71",
   "metadata": {},
   "outputs": [],
   "source": [
    "user_interest_matrix = list(map(make_user_interest_vector, users_interests))"
   ]
  },
  {
   "cell_type": "code",
   "execution_count": 9,
   "id": "0497c17a",
   "metadata": {},
   "outputs": [
    {
     "name": "stdout",
     "output_type": "stream",
     "text": [
      "[1, 0, 1, 1, 1, 0, 1, 0, 0, 0, 0, 0, 0, 0, 0, 1, 1, 0, 0, 0, 0, 0, 0, 0, 0, 0, 0, 0, 0, 0, 0, 0, 0, 0, 0, 0]\n"
     ]
    }
   ],
   "source": [
    "print(user_interest_matrix[0]) # first user interests"
   ]
  },
  {
   "cell_type": "markdown",
   "id": "a886a83d",
   "metadata": {},
   "source": [
    "After matrix is completed, we can go ahead and compute cosine similarity against each user"
   ]
  },
  {
   "cell_type": "code",
   "execution_count": 10,
   "id": "46519b62",
   "metadata": {},
   "outputs": [],
   "source": [
    "user_similarities = [[cosine_similarity(interest_vector_i, interest_vector_j)\n",
    "    for interest_vector_j in user_interest_matrix]\n",
    "    for interest_vector_i in user_interest_matrix]"
   ]
  },
  {
   "cell_type": "code",
   "execution_count": 11,
   "id": "b6302e30",
   "metadata": {},
   "outputs": [],
   "source": [
    "def most_similar_users_to(user_id):\n",
    "    pairs = [(other_user_id, similarity) # find other\n",
    "            for other_user_id, similarity in # users with\n",
    "            enumerate(user_similarities[user_id]) # nonzero\n",
    "            if user_id != other_user_id and similarity > 0] # similarity\n",
    "    \n",
    "    return sorted(pairs, key=lambda similarity: similarity[1], reverse=True)"
   ]
  },
  {
   "cell_type": "code",
   "execution_count": 12,
   "id": "667b1868",
   "metadata": {},
   "outputs": [
    {
     "data": {
      "text/plain": [
       "[(9, 0.5669467095138409),\n",
       " (1, 0.3380617018914066),\n",
       " (8, 0.1889822365046136),\n",
       " (13, 0.1690308509457033),\n",
       " (5, 0.1543033499620919)]"
      ]
     },
     "execution_count": 12,
     "metadata": {},
     "output_type": "execute_result"
    }
   ],
   "source": [
    "most_similar_users_to(0) # user with id 0 most similar to user 9, 1,...,5"
   ]
  },
  {
   "cell_type": "code",
   "execution_count": 13,
   "id": "78859b8f",
   "metadata": {},
   "outputs": [],
   "source": [
    "def user_based_suggestions(user_id, include_current_interests=False):\n",
    "    \n",
    "    # sum up the similarities\n",
    "    suggestions = defaultdict(float)\n",
    "    for other_user_id, similarity in most_similar_users_to(user_id):\n",
    "        for interest in users_interests[other_user_id]:\n",
    "            suggestions[interest] += similarity\n",
    "    \n",
    "    # convert them to a sorted list\n",
    "    suggestions = sorted(suggestions.items(), key=lambda weight: weight[1], reverse=True)\n",
    "    \n",
    "    # and (maybe) exclude already-interests\n",
    "    if include_current_interests:\n",
    "        return suggestions\n",
    "    else:\n",
    "        return [(suggestion, weight)\n",
    "                for suggestion, weight in suggestions\n",
    "                if suggestion not in users_interests[user_id]]"
   ]
  },
  {
   "cell_type": "markdown",
   "id": "00fccfe1",
   "metadata": {},
   "source": [
    "Here we essentially filter out interests of most similar users without including interests of a user"
   ]
  },
  {
   "cell_type": "code",
   "execution_count": 14,
   "id": "bcdedfe2",
   "metadata": {},
   "outputs": [
    {
     "data": {
      "text/plain": [
       "[('MapReduce', 0.5669467095138409),\n",
       " ('MongoDB', 0.50709255283711),\n",
       " ('Postgres', 0.50709255283711),\n",
       " ('NoSQL', 0.3380617018914066),\n",
       " ('neural networks', 0.1889822365046136),\n",
       " ('deep learning', 0.1889822365046136),\n",
       " ('artificial intelligence', 0.1889822365046136),\n",
       " ('databases', 0.1690308509457033),\n",
       " ('MySQL', 0.1690308509457033),\n",
       " ('Python', 0.1543033499620919),\n",
       " ('R', 0.1543033499620919),\n",
       " ('C++', 0.1543033499620919),\n",
       " ('Haskell', 0.1543033499620919),\n",
       " ('programming languages', 0.1543033499620919)]"
      ]
     },
     "execution_count": 14,
     "metadata": {},
     "output_type": "execute_result"
    }
   ],
   "source": [
    "user_based_suggestions(0, include_current_interests=False) # user 0 was suggested following interests"
   ]
  },
  {
   "cell_type": "markdown",
   "id": "94866626",
   "metadata": {},
   "source": [
    "## 2. Item-Based Collaborative Filtering"
   ]
  },
  {
   "cell_type": "code",
   "execution_count": 15,
   "id": "f9ed4224",
   "metadata": {},
   "outputs": [],
   "source": [
    "interest_user_matrix = [[user_interest_vector[j] for user_interest_vector in user_interest_matrix]\n",
    "    for j, _ in enumerate(unique_interests)]"
   ]
  },
  {
   "cell_type": "code",
   "execution_count": 16,
   "id": "019ac205",
   "metadata": {},
   "outputs": [],
   "source": [
    "interest_similarities = [[cosine_similarity(user_vector_i, user_vector_j)\n",
    "        for user_vector_j in interest_user_matrix]\n",
    "        for user_vector_i in interest_user_matrix]"
   ]
  },
  {
   "cell_type": "code",
   "execution_count": 17,
   "id": "d110537b",
   "metadata": {},
   "outputs": [],
   "source": [
    "def most_similar_interests_to(interest: str) -> list:\n",
    "    interest_id = unique_interests.index('Big Data')\n",
    "    similarities = interest_similarities[interest_id]\n",
    "    pairs = [(unique_interests[other_interest_id], similarity)\n",
    "            for other_interest_id, similarity in enumerate(similarities)\n",
    "            if interest_id != other_interest_id and similarity > 0]\n",
    "    return sorted(pairs, key=lambda similarity: similarity[1], reverse=True)"
   ]
  },
  {
   "cell_type": "code",
   "execution_count": 18,
   "id": "e87fef7d",
   "metadata": {},
   "outputs": [
    {
     "data": {
      "text/plain": [
       "[('Hadoop', 0.8164965809277261),\n",
       " ('Java', 0.6666666666666666),\n",
       " ('MapReduce', 0.5773502691896258),\n",
       " ('Spark', 0.5773502691896258),\n",
       " ('Storm', 0.5773502691896258),\n",
       " ('Cassandra', 0.4082482904638631),\n",
       " ('artificial intelligence', 0.4082482904638631),\n",
       " ('deep learning', 0.4082482904638631),\n",
       " ('neural networks', 0.4082482904638631),\n",
       " ('HBase', 0.3333333333333333)]"
      ]
     },
     "execution_count": 18,
     "metadata": {},
     "output_type": "execute_result"
    }
   ],
   "source": [
    "most_similar_interests_to('Big Data')"
   ]
  },
  {
   "cell_type": "code",
   "execution_count": 19,
   "id": "ef1429b9",
   "metadata": {},
   "outputs": [],
   "source": [
    "def item_based_suggestions(user_id: int) -> list:\n",
    "    # add up the similar interests\n",
    "    suggestions = defaultdict(float)\n",
    "    user_interest_vector = user_interest_matrix[user_id]\n",
    "    for interest_id, is_interested in enumerate(user_interest_vector):\n",
    "        if is_interested == 1:\n",
    "            similar_interests = most_similar_interests_to(interest_id)\n",
    "            for interest, similarity in similar_interests:\n",
    "                suggestions[interest] += similarity\n",
    "    \n",
    "    # sort them by weight\n",
    "    suggestions = sorted(suggestions.items(), key=lambda similarity: similarity[1], reverse=True)\n",
    "    return suggestions"
   ]
  },
  {
   "cell_type": "code",
   "execution_count": 20,
   "id": "65091e8b",
   "metadata": {},
   "outputs": [
    {
     "data": {
      "text/plain": [
       "[('Hadoop', 5.715476066494083),\n",
       " ('Java', 4.666666666666666),\n",
       " ('MapReduce', 4.041451884327381),\n",
       " ('Spark', 4.041451884327381),\n",
       " ('Storm', 4.041451884327381),\n",
       " ('Cassandra', 2.8577380332470415),\n",
       " ('artificial intelligence', 2.8577380332470415),\n",
       " ('deep learning', 2.8577380332470415),\n",
       " ('neural networks', 2.8577380332470415),\n",
       " ('HBase', 2.333333333333333)]"
      ]
     },
     "execution_count": 20,
     "metadata": {},
     "output_type": "execute_result"
    }
   ],
   "source": [
    "item_based_suggestions(0)"
   ]
  },
  {
   "cell_type": "markdown",
   "id": "758168ab",
   "metadata": {},
   "source": [
    "## Conclusion"
   ]
  },
  {
   "cell_type": "markdown",
   "id": "e6e58e1e",
   "metadata": {},
   "source": [
    "Both approaches returned identical results"
   ]
  }
 ],
 "metadata": {
  "kernelspec": {
   "display_name": "Python 3",
   "language": "python",
   "name": "python3"
  },
  "language_info": {
   "codemirror_mode": {
    "name": "ipython",
    "version": 3
   },
   "file_extension": ".py",
   "mimetype": "text/x-python",
   "name": "python",
   "nbconvert_exporter": "python",
   "pygments_lexer": "ipython3",
   "version": "3.8.8"
  }
 },
 "nbformat": 4,
 "nbformat_minor": 5
}
